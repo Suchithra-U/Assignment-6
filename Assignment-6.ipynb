{
 "cells": [
  {
   "cell_type": "code",
   "execution_count": 10,
   "metadata": {},
   "outputs": [
    {
     "name": "stdout",
     "output_type": "stream",
     "text": [
      "Input a binary number:10000001\n",
      "The decimal value of the number is 128\n"
     ]
    }
   ],
   "source": [
    "#Binary to decimal\n",
    "num=list(input(\"Input a binary number:\"))\n",
    "V=0\n",
    "for i in range(len(num)):\n",
    "               d=num.pop()\n",
    "if d=='1':\n",
    "         V= V+pow(2,i)\n",
    "print(\"The decimal value of the number is\",V)"
   ]
  },
  {
   "cell_type": "code",
   "execution_count": 11,
   "metadata": {},
   "outputs": [
    {
     "name": "stdout",
     "output_type": "stream",
     "text": [
      "Enter the value of 'n': 5\n",
      "Fibonacci Series:  0 1 1 2 3 "
     ]
    }
   ],
   "source": [
    "#Fibonacci Series\n",
    "n = int(input(\"Enter the value of 'n': \"))\n",
    "a = 0\n",
    "b = 1\n",
    "sum = 0\n",
    "count = 1\n",
    "print(\"Fibonacci Series: \", end = \" \")\n",
    "while(count <= n):\n",
    "    print(sum, end = \" \")\n",
    "    count += 1\n",
    "    a = b\n",
    "    b = sum\n",
    "    sum = a + b"
   ]
  },
  {
   "cell_type": "code",
   "execution_count": 2,
   "metadata": {},
   "outputs": [
    {
     "name": "stdout",
     "output_type": "stream",
     "text": [
      "Display multiplication table of:15\n",
      "15 x 1 = 15\n",
      "15 x 2 = 30\n",
      "15 x 3 = 45\n",
      "15 x 4 = 60\n",
      "15 x 5 = 75\n",
      "15 x 6 = 90\n",
      "15 x 7 = 105\n",
      "15 x 8 = 120\n",
      "15 x 9 = 135\n",
      "15 x 10 = 150\n"
     ]
    }
   ],
   "source": [
    "#Multiplication Table\n",
    "num=15\n",
    "num=int(input(\"Display multiplication table of:\"))\n",
    "#Iterate 10 times from i= 1 to 10\n",
    "for i in range(1,11):\n",
    "            print(num,'x',i,'=',num*i)"
   ]
  },
  {
   "cell_type": "code",
   "execution_count": 8,
   "metadata": {},
   "outputs": [
    {
     "name": "stdout",
     "output_type": "stream",
     "text": [
      "Enter a number:9\n",
      "Enter a number:6\n",
      "Enter a number:28\n",
      "Enter a number:7\n",
      "Enter a number:76\n",
      "Enter a number:67\n",
      "Enter a number:30\n",
      "Enter a number:23\n",
      "Enter a number:43\n",
      "Enter a number:23\n",
      "average= 31.2\n",
      "\n",
      "\n",
      "* \n",
      "\n",
      "* * \n",
      "\n",
      "* * * \n",
      "\n",
      "* * * * \n",
      "\n"
     ]
    }
   ],
   "source": [
    "#Average value of 10 integer using loop\n",
    "l1=[]\n",
    "for i in range(0,10):\n",
    "    x=int(input(\"Enter a number:\"))\n",
    "    l1.append(x)\n",
    "suml=sum(l1)/10\n",
    "print(\"average=\",suml)\n",
    "for j in range(5):\n",
    "    for k in range(j):\n",
    "        print(\"*\",end=' ')\n",
    "    print('\\n')"
   ]
  },
  {
   "cell_type": "code",
   "execution_count": null,
   "metadata": {},
   "outputs": [],
   "source": []
  }
 ],
 "metadata": {
  "kernelspec": {
   "display_name": "Python 3",
   "language": "python",
   "name": "python3"
  },
  "language_info": {
   "codemirror_mode": {
    "name": "ipython",
    "version": 3
   },
   "file_extension": ".py",
   "mimetype": "text/x-python",
   "name": "python",
   "nbconvert_exporter": "python",
   "pygments_lexer": "ipython3",
   "version": "3.8.3"
  }
 },
 "nbformat": 4,
 "nbformat_minor": 4
}
